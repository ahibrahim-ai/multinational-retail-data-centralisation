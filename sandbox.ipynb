{
 "cells": [
  {
   "cell_type": "code",
   "execution_count": 1,
   "metadata": {},
   "outputs": [],
   "source": [
    "# pip install PyYaml\n",
    "#%pip install psycopg2"
   ]
  },
  {
   "cell_type": "code",
   "execution_count": 1,
   "metadata": {},
   "outputs": [],
   "source": [
    "from database_utils import DatabaseConnector\n",
    "from data_extraction import DataExtractor\n",
    "from data_cleaning import DataCleaning\n",
    "import tabula\n",
    "import pandas as pd"
   ]
  },
  {
   "cell_type": "code",
   "execution_count": 2,
   "metadata": {},
   "outputs": [
    {
     "name": "stdout",
     "output_type": "stream",
     "text": [
      "dict_keys(['legacy_store_details', 'legacy_users', 'orders_table'])\n"
     ]
    }
   ],
   "source": [
    "connector = DatabaseConnector(credentials_file_path='db_creds_remote.yaml')\n",
    "tables = connector.list_db_tables()\n",
    "print(tables)\n",
    "extractor = DataExtractor(db_engine=connector.engine)\n",
    "user_data_df = extractor.read_rds_table(db_connector=connector, table_name= \"legacy_users\")\n",
    "\n",
    "cleaner = DataCleaning()\n",
    "cleaned_user_data = cleaner.clean_user_data(user_data_df)\n",
    "df = cleaned_user_data\n",
    "local_connector = DatabaseConnector(credentials_file_path='db_creds_local.yaml')\n",
    "\n",
    "# Task 4 - extracting users and cleaning card details.\n",
    "link = \"https://data-handling-public.s3.eu-west-1.amazonaws.com/card_details.pdf\"\n",
    "result_df = extractor.retrieve_pdf_data(link)\n",
    "cleaned_result_df = cleaner.clean_card_data(result_df)\n"
   ]
  },
  {
   "cell_type": "code",
   "execution_count": 7,
   "metadata": {},
   "outputs": [
    {
     "data": {
      "text/plain": [
       "'visa 123'"
      ]
     },
     "execution_count": 7,
     "metadata": {},
     "output_type": "execute_result"
    }
   ],
   "source": [
    "id = \"visa 123\"\n",
    "id.replace(r'\\W', '')"
   ]
  },
  {
   "cell_type": "code",
   "execution_count": 3,
   "metadata": {},
   "outputs": [
    {
     "data": {
      "text/html": [
       "<div>\n",
       "<style scoped>\n",
       "    .dataframe tbody tr th:only-of-type {\n",
       "        vertical-align: middle;\n",
       "    }\n",
       "\n",
       "    .dataframe tbody tr th {\n",
       "        vertical-align: top;\n",
       "    }\n",
       "\n",
       "    .dataframe thead th {\n",
       "        text-align: right;\n",
       "    }\n",
       "</style>\n",
       "<table border=\"1\" class=\"dataframe\">\n",
       "  <thead>\n",
       "    <tr style=\"text-align: right;\">\n",
       "      <th></th>\n",
       "      <th>card_number</th>\n",
       "      <th>expiry_date</th>\n",
       "      <th>card_provider</th>\n",
       "      <th>date_payment_confirmed</th>\n",
       "    </tr>\n",
       "  </thead>\n",
       "  <tbody>\n",
       "    <tr>\n",
       "      <th>2</th>\n",
       "      <td>&lt;NA&gt;</td>\n",
       "      <td>NWS3P2W38H</td>\n",
       "      <td>NB71VBAHJE</td>\n",
       "      <td>GTC9KBWJO9</td>\n",
       "    </tr>\n",
       "  </tbody>\n",
       "</table>\n",
       "</div>"
      ],
      "text/plain": [
       "  card_number expiry_date card_provider date_payment_confirmed\n",
       "2        <NA>  NWS3P2W38H    NB71VBAHJE             GTC9KBWJO9"
      ]
     },
     "metadata": {},
     "output_type": "display_data"
    }
   ],
   "source": [
    "look = 'NWS3P2W38H'\n",
    "results = result_df.loc[result_df[\"expiry_date\"] == look]\n",
    "display(results)\n"
   ]
  },
  {
   "cell_type": "code",
   "execution_count": 4,
   "metadata": {},
   "outputs": [
    {
     "name": "stdout",
     "output_type": "stream",
     "text": [
      "<class 'pandas.core.frame.DataFrame'>\n",
      "Index: 2530 entries, 0 to 54\n",
      "Data columns (total 4 columns):\n",
      " #   Column                  Non-Null Count  Dtype \n",
      "---  ------                  --------------  ----- \n",
      " 0   card_number             2530 non-null   object\n",
      " 1   expiry_date             2530 non-null   object\n",
      " 2   card_provider           2530 non-null   object\n",
      " 3   date_payment_confirmed  2530 non-null   object\n",
      "dtypes: object(4)\n",
      "memory usage: 98.8+ KB\n"
     ]
    }
   ],
   "source": [
    "cleaned_result_df.info()"
   ]
  },
  {
   "cell_type": "code",
   "execution_count": 4,
   "metadata": {},
   "outputs": [
    {
     "data": {
      "text/plain": [
       "'JCB 16 '"
      ]
     },
     "execution_count": 4,
     "metadata": {},
     "output_type": "execute_result"
    }
   ],
   "source": [
    "cleaned_result_df['card_provider'].iloc[2]"
   ]
  },
  {
   "cell_type": "code",
   "execution_count": null,
   "metadata": {},
   "outputs": [],
   "source": []
  }
 ],
 "metadata": {
  "kernelspec": {
   "display_name": "Python 3",
   "language": "python",
   "name": "python3"
  },
  "language_info": {
   "codemirror_mode": {
    "name": "ipython",
    "version": 3
   },
   "file_extension": ".py",
   "mimetype": "text/x-python",
   "name": "python",
   "nbconvert_exporter": "python",
   "pygments_lexer": "ipython3",
   "version": "3.11.6"
  }
 },
 "nbformat": 4,
 "nbformat_minor": 2
}
